{
 "cells": [
  {
   "cell_type": "code",
   "execution_count": 26,
   "id": "98f1fe84-050c-4230-8483-ee7b1c9de0a0",
   "metadata": {},
   "outputs": [
    {
     "name": "stdin",
     "output_type": "stream",
     "text": [
      "Enter 1st Number :  0\n",
      "Enter 2nd Number :  2\n"
     ]
    },
    {
     "name": "stdout",
     "output_type": "stream",
     "text": [
      "-----------------------------\n",
      "Below are the required output after the operation performed :\n",
      "Addition :  2.0\n",
      "Substraction :  -2.0\n",
      "Multiplication :  0.0\n",
      "Division :  0.0\n"
     ]
    }
   ],
   "source": [
    "#Task 1: Perform Basic Mathematical Operations\n",
    "a = float(input(\"Enter 1st Number : \"))\n",
    "b = float(input(\"Enter 2nd Number : \"))\n",
    "\n",
    "print (\"-----------------------------\")\n",
    "print (\"Below are the required output after the operation performed :\")\n",
    "print (\"Addition : \", a + b)\n",
    "print (\"Substraction : \", a - b)\n",
    "print (\"Multiplication : \", a * b)\n",
    "print (\"Division : \", a / b)"
   ]
  },
  {
   "cell_type": "code",
   "execution_count": 23,
   "id": "b111bc12-13e3-4a03-b8c3-66332e1eb526",
   "metadata": {},
   "outputs": [
    {
     "name": "stdin",
     "output_type": "stream",
     "text": [
      "Enter your First Name :  Nagendra\n",
      "Enter your Middle Name :  Prashad\n",
      "Enter your Last Name :  Joshi\n"
     ]
    },
    {
     "name": "stdout",
     "output_type": "stream",
     "text": [
      "------------------------\n",
      "Hello,  Nagendra Prashad Joshi ! Welcome to the TuteDude python training program.\n"
     ]
    }
   ],
   "source": [
    "#Task 2: Create a Personalized Greeting \n",
    "#Sample Name (Nagendra Prashad Joshi)\n",
    "\n",
    "a = input(\"Enter your First Name : \")\n",
    "b = input(\"Enter your Middle Name : \")\n",
    "c = input(\"Enter your Last Name : \")\n",
    "\n",
    "user_name = a + \" \" + b + \" \" + c\n",
    "\n",
    "print (\"------------------------\")\n",
    "print (\"Hello, \", user_name , \"! Welcome to the TuteDude python training program.\")"
   ]
  },
  {
   "cell_type": "code",
   "execution_count": null,
   "id": "23224f51-e438-41de-b7a1-96a401dafe06",
   "metadata": {},
   "outputs": [],
   "source": []
  }
 ],
 "metadata": {
  "kernelspec": {
   "display_name": "Python 3 (ipykernel)",
   "language": "python",
   "name": "python3"
  },
  "language_info": {
   "codemirror_mode": {
    "name": "ipython",
    "version": 3
   },
   "file_extension": ".py",
   "mimetype": "text/x-python",
   "name": "python",
   "nbconvert_exporter": "python",
   "pygments_lexer": "ipython3",
   "version": "3.12.7"
  }
 },
 "nbformat": 4,
 "nbformat_minor": 5
}
